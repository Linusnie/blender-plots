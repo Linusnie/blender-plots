{
 "cells": [
  {
   "cell_type": "code",
   "execution_count": null,
   "id": "eb6186f7-0c54-48b5-9c33-22109f894598",
   "metadata": {},
   "outputs": [],
   "source": [
    "%load_ext autoreload\n",
    "%autoreload 2\n",
    "\n",
    "import numpy as np\n",
    "from IPython.display import Image\n",
    "from pathlib import Path\n",
    "import os\n",
    "\n",
    "import blender_plots as bplt\n",
    "import bpy\n",
    "images_folder = Path('images')"
   ]
  },
  {
   "cell_type": "markdown",
   "id": "c819a4be-fa43-4e60-bbd9-fb826fed5be9",
   "metadata": {
    "tags": []
   },
   "source": [
    "### Examples\n",
    "After importing numpy as np and blender_plots as bplt you can copy-paste these code-snippets into the blender script editor to try the examples.\n",
    "For running blender together with jupyter notebook (highly recommended) see e.g. https://blender.stackexchange.com/questions/172249/how-can-i-use-blenders-python-api-from-a-ipython-terminal-or-jupyter-notebook"
   ]
  },
  {
   "cell_type": "code",
   "execution_count": null,
   "id": "ee7dafcf-26a3-4a29-8c69-995acee74d64",
   "metadata": {},
   "outputs": [],
   "source": [
    "# plot function\n",
    "n = 150\n",
    "l = 100\n",
    "\n",
    "x, y = np.meshgrid(np.linspace(0, l, n), np.linspace(0, l, n))\n",
    "\n",
    "z = np.sin(2*np.pi * x / l)*np.sin(2*np.pi * y / l) * 20\n",
    "scatter = bplt.Scatter(np.stack([x, y, z], axis=-1).reshape(-1, 3), color=(1, 0, 0), name=\"red\")\n",
    "\n",
    "z = np.sin(4*np.pi * x / l)*np.sin(4*np.pi * y / l) * 20 + 40\n",
    "scatter = bplt.Scatter(np.stack([x, y, z], axis=-1).reshape(-1, 3), color=(0, 0, 1), name=\"blue\")"
   ]
  },
  {
   "cell_type": "code",
   "execution_count": null,
   "id": "60c2ed5d-5e62-4678-920e-acefa290181e",
   "metadata": {
    "scrolled": true,
    "tags": []
   },
   "outputs": [],
   "source": [
    "# plot animated function\n",
    "n, l, T = 150, 100, 100\n",
    "t, x, y = np.meshgrid(np.arange(0, T), np.linspace(0, l, n), np.linspace(0, l, n), indexing='ij')\n",
    "\n",
    "z = np.sin(2*np.pi * x / l) * np.sin(2*np.pi * y / l) * np.sin(2*np.pi * t / T) * 20\n",
    "scatter = bplt.Scatter(np.stack([x, y, z], axis=-1).reshape(T, n*n, 3), color=(1, 0, 0), name=\"red\")\n",
    "\n",
    "z = np.sin(4*np.pi * x / l) * np.sin(4*np.pi * y / l) * np.sin(8*np.pi * t / T) * 20 + 40\n",
    "scatter = bplt.Scatter(np.stack([x, y, z], axis=-1).reshape(T, n*n, 3), color=(0, 0, 1), name=\"blue\")"
   ]
  },
  {
   "cell_type": "code",
   "execution_count": null,
   "id": "f660632f-af38-4b90-add6-3c60f60da02e",
   "metadata": {},
   "outputs": [],
   "source": [
    "# Default settings, a cube is added to each point\n",
    "n = int(1e3)\n",
    "scatter = bplt.Scatter(np.random.rand(n, 3)*50, color=np.random.rand(n, 3))"
   ]
  },
  {
   "cell_type": "code",
   "execution_count": null,
   "id": "2c56e639-de74-417f-8a08-8cf1ff98f07d",
   "metadata": {},
   "outputs": [],
   "source": [
    "# Resize cubes by passing in size argument\n",
    "scatter = bplt.Scatter(np.random.rand(n, 3)*50, color=np.random.rand(n, 3), size=(5, 1, 1))"
   ]
  },
  {
   "cell_type": "code",
   "execution_count": null,
   "id": "0c0a3292-84a7-4f75-a119-e32871e7b6d7",
   "metadata": {},
   "outputs": [],
   "source": [
    "# add random rotations\n",
    "scatter = bplt.Scatter(np.random.rand(n, 3)*50, color=np.random.rand(n, 3), size=(5, 1, 1), randomize_rotation=True)"
   ]
  },
  {
   "cell_type": "code",
   "execution_count": null,
   "id": "3c1b6a6b-9a90-41e2-90dc-af86e3778943",
   "metadata": {},
   "outputs": [],
   "source": [
    "# Cones\n",
    "n = int(1e2)\n",
    "scatter = bplt.Scatter(\n",
    "    np.random.rand(n, 3)*50,\n",
    "    color=np.random.rand(n, 3),\n",
    "    marker_type=\"cones\",\n",
    "    radius_bottom=1,\n",
    "    radius_top=3,\n",
    "    randomize_rotation=True\n",
    ")"
   ]
  },
  {
   "cell_type": "code",
   "execution_count": null,
   "id": "ee7a686d-2484-41e8-ad59-87ba74dc9ac5",
   "metadata": {},
   "outputs": [],
   "source": [
    "# Grid with marker options\n",
    "def add_text(text, location):\n",
    "    font_curve = bpy.data.curves.new(type=\"FONT\", name=text)\n",
    "    font_curve.body = text\n",
    "    font_obj = bpy.data.objects.new(name=\"Font Object\", object_data=font_curve)\n",
    "    bpy.context.scene.collection.objects.link(font_obj)\n",
    "    font_obj.location = location\n",
    "    font_obj.scale = [5, 5, 5]\n",
    "    \n",
    "    modifier = font_obj.modifiers.new(type=\"SOLIDIFY\", name=\"solidify\")\n",
    "    modifier.thickness = 0.05\n",
    "\n",
    "w = 20\n",
    "n = 100\n",
    "monkey = bpy.ops.mesh.primitive_monkey_add()\n",
    "bpy.context.scene.objects[\"Suzanne\"].hide_viewport = True\n",
    "marker_types = list(bplt.scatter.MARKER_TYPES.keys()) + [bpy.context.scene.objects[\"Suzanne\"]]\n",
    "for i, marker_type in enumerate(marker_types):\n",
    "    for j, randomize_rotation in enumerate([False, True]):\n",
    "        scatter = bplt.Scatter(\n",
    "            np.random.rand(n, 3)*w,\n",
    "            color=np.random.rand(n, 3),\n",
    "            marker_type=marker_type,\n",
    "            name=str(marker_type) + str(randomize_rotation),\n",
    "            randomize_rotation=randomize_rotation\n",
    "        )\n",
    "        scatter.points += [i * w * 1.3, 0, j * w * 1.3]\n",
    "    add_text(str(marker_type).replace('_', '\\n'), [i * w * 1.3, -w/2, 0])\n"
   ]
  },
  {
   "cell_type": "code",
   "execution_count": null,
   "id": "e820967f-02a5-473b-9ecd-6aa6cb69db9a",
   "metadata": {},
   "outputs": [],
   "source": [
    "# custom mesh\n",
    "bpy.ops.mesh.primitive_monkey_add()\n",
    "monkey = bpy.context.active_object\n",
    "monkey.hide_viewport = True\n",
    "monkey.hide_render = True\n",
    "n = int(.5e2)\n",
    "scatter = bplt.Scatter(\n",
    "    np.stack([\n",
    "        np.cos(np.linspace(0, 1, n)*np.pi*4),\n",
    "        np.sin(np.linspace(0, 1, n)*np.pi*4),\n",
    "        np.linspace(0, 1, n)\n",
    "    ], axis=-1) * 50,\n",
    "    color=np.random.rand(n, 3),\n",
    "    marker_type=monkey,\n",
    "    radius_bottom=1,\n",
    "    radius_top=3,\n",
    "    marker_scale=[5]*3,\n",
    "    randomize_rotation=True\n",
    ")"
   ]
  },
  {
   "cell_type": "code",
   "execution_count": null,
   "id": "63688da0-3da6-4589-af28-56e39947cd06",
   "metadata": {},
   "outputs": [],
   "source": [
    "# Perfect spheres (only visible in rendered view and with with rendering engine set to cycles)\n",
    "scatter = bplt.Scatter(np.random.rand(n, 3)*50, color=np.random.rand(n, 3), marker_type=\"spheres\", radius=1.5)"
   ]
  },
  {
   "cell_type": "code",
   "execution_count": null,
   "id": "dce1a2bc-8dcf-4488-ae94-1286da694bdc",
   "metadata": {},
   "outputs": [],
   "source": [
    "# Animated, all same color\n",
    "t, n = 10, int(1e2)\n",
    "scatter = bplt.Scatter(\n",
    "    np.random.rand(t, n, 3)*50,\n",
    "    color=(1, 0, 0),\n",
    "    size=(5, 1, 1)\n",
    ")"
   ]
  },
  {
   "cell_type": "code",
   "execution_count": null,
   "id": "d5b46e01-df0a-4379-a3a5-88104e1c6d99",
   "metadata": {},
   "outputs": [],
   "source": [
    "# Animated, same color between frames\n",
    "t, n = 10, int(1e2)\n",
    "scatter = bplt.Scatter(\n",
    "    np.random.rand(t, n, 3)*50,\n",
    "    color=np.random.rand(n, 3),\n",
    "    size=(5, 1, 1)\n",
    ")"
   ]
  },
  {
   "cell_type": "code",
   "execution_count": null,
   "id": "10bbd09b-07b0-4b2b-bd2c-0d5a01485f8c",
   "metadata": {},
   "outputs": [],
   "source": [
    "# Animated, different color every frame\n",
    "t, n = 10, int(1e2)\n",
    "scatter = bplt.Scatter(\n",
    "    np.random.rand(t, n, 3)*50,\n",
    "    color=np.array([np.ones((n, 1))*np.random.rand(3) for _ in range(t)]),\n",
    "    size=(5, 1, 1)\n",
    ")"
   ]
  },
  {
   "cell_type": "code",
   "execution_count": null,
   "id": "fa31e9f4-7565-4e5d-82be-7a25dddc73f5",
   "metadata": {},
   "outputs": [],
   "source": [
    "# Animated with spheres\n",
    "t, n = 10, int(1e2)\n",
    "scatter = bplt.Scatter(\n",
    "    np.random.rand(t, n, 3)*50,\n",
    "    color=np.array([np.ones((n, 1))*np.random.rand(3) for _ in range(t)]),\n",
    "    marker_type=\"spheres\",\n",
    "    radius=1\n",
    ")"
   ]
  }
 ],
 "metadata": {
  "kernelspec": {
   "display_name": "blender",
   "language": "python",
   "name": "blender"
  },
  "language_info": {
   "codemirror_mode": {
    "name": "ipython",
    "version": 3
   },
   "file_extension": ".py",
   "mimetype": "text/x-python",
   "name": "python",
   "nbconvert_exporter": "python",
   "pygments_lexer": "ipython3",
   "version": "3.10.2"
  }
 },
 "nbformat": 4,
 "nbformat_minor": 5
}
