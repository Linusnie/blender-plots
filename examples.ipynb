{
 "cells": [
  {
   "cell_type": "code",
   "execution_count": null,
   "id": "eb6186f7-0c54-48b5-9c33-22109f894598",
   "metadata": {},
   "outputs": [],
   "source": [
    "%load_ext autoreload\n",
    "%autoreload 2\n",
    "\n",
    "import numpy as np\n",
    "from IPython.display import Image\n",
    "from pathlib import Path\n",
    "import os\n",
    "\n",
    "import blender_plots as bplt\n",
    "import bpy\n",
    "images_folder = Path('images')"
   ]
  },
  {
   "cell_type": "markdown",
   "id": "c819a4be-fa43-4e60-bbd9-fb826fed5be9",
   "metadata": {
    "tags": []
   },
   "source": [
    "### Examples\n",
    "After importing numpy as np and blender_plots as bplt you can copy-paste these code-snippets into the blender script editor to try the examples.\n",
    "For running blender together with jupyter notebook (highly recommended) see e.g. https://blender.stackexchange.com/questions/172249/how-can-i-use-blenders-python-api-from-a-ipython-terminal-or-jupyter-notebook"
   ]
  },
  {
   "cell_type": "code",
   "execution_count": null,
   "id": "ee7dafcf-26a3-4a29-8c69-995acee74d64",
   "metadata": {},
   "outputs": [],
   "source": [
    "# plot function\n",
    "n, l = 150, 100\n",
    "x, y = np.meshgrid(np.linspace(0, l, n), np.linspace(0, l, n))\n",
    "x, y = x.ravel(), y.ravel()\n",
    "\n",
    "z = np.sin(2*np.pi * x / l)*np.sin(2*np.pi * y / l) * 20\n",
    "bplt.Scatter(x, y, z, color=(1, 0, 0), name=\"red\")\n",
    "\n",
    "z = np.sin(4*np.pi * x / l)*np.sin(4*np.pi * y / l) * 20 + 40\n",
    "bplt.Scatter(x, y, z, color=(0, 0, 1), name=\"blue\")"
   ]
  },
  {
   "cell_type": "code",
   "execution_count": null,
   "id": "60c2ed5d-5e62-4678-920e-acefa290181e",
   "metadata": {
    "tags": []
   },
   "outputs": [],
   "source": [
    "# plot animated function\n",
    "n, l, T = 150, 100, 100\n",
    "t, x, y = np.meshgrid(np.arange(0, T), np.linspace(0, l, n), np.linspace(0, l, n), indexing='ij')\n",
    "t, x, y = t.reshape((T, -1)), x.reshape((T, -1)), y.reshape((T, -1))\n",
    "\n",
    "z = np.sin(2*np.pi * x / l) * np.sin(2*np.pi * y / l) * np.sin(2*np.pi * t / T) * 20\n",
    "bplt.Scatter(x, y, z, color=(1, 0, 0), name=\"red\")\n",
    "\n",
    "z = np.sin(4*np.pi * x / l) * np.sin(4*np.pi * y / l) * np.sin(8*np.pi * t / T) * 20 + 40\n",
    "bplt.Scatter(x, y, z, color=(0, 0, 1), name=\"blue\")"
   ]
  },
  {
   "cell_type": "code",
   "execution_count": null,
   "id": "f660632f-af38-4b90-add6-3c60f60da02e",
   "metadata": {},
   "outputs": [],
   "source": [
    "# Default settings, a cube is added to each point\n",
    "n = int(1e3)\n",
    "scatter = bplt.Scatter(np.random.rand(n, 3)*50, color=np.random.rand(n, 3))"
   ]
  },
  {
   "cell_type": "code",
   "execution_count": null,
   "id": "10705d2d-524c-4cda-80e7-ff21c8049021",
   "metadata": {},
   "outputs": [],
   "source": [
    "# Default settings, no colors\n",
    "n = int(1e3)\n",
    "scatter = bplt.Scatter(np.random.rand(n, 3)*50)"
   ]
  },
  {
   "cell_type": "code",
   "execution_count": null,
   "id": "2c56e639-de74-417f-8a08-8cf1ff98f07d",
   "metadata": {},
   "outputs": [],
   "source": [
    "# Resize cubes by passing in size argument\n",
    "scatter = bplt.Scatter(np.random.rand(n, 3)*50, color=np.random.rand(n, 3), size=(5, 1, 1))"
   ]
  },
  {
   "cell_type": "code",
   "execution_count": null,
   "id": "0c0a3292-84a7-4f75-a119-e32871e7b6d7",
   "metadata": {},
   "outputs": [],
   "source": [
    "# add random rotations\n",
    "scatter = bplt.Scatter(np.random.rand(n, 3)*50, color=np.random.rand(n, 3), size=(5, 1, 1), randomize_rotation=True)"
   ]
  },
  {
   "cell_type": "code",
   "execution_count": null,
   "id": "3c1b6a6b-9a90-41e2-90dc-af86e3778943",
   "metadata": {},
   "outputs": [],
   "source": [
    "# Cones\n",
    "n = int(1e2)\n",
    "scatter = bplt.Scatter(\n",
    "    np.random.rand(n, 3)*50,\n",
    "    color=np.random.rand(n, 3),\n",
    "    marker_type=\"cones\",\n",
    "    radius_bottom=1,\n",
    "    radius_top=3,\n",
    "    randomize_rotation=True,\n",
    ")"
   ]
  },
  {
   "cell_type": "code",
   "execution_count": null,
   "id": "ee7a686d-2484-41e8-ad59-87ba74dc9ac5",
   "metadata": {},
   "outputs": [],
   "source": [
    "# Grid with marker options\n",
    "def add_text(text, location):\n",
    "    font_curve = bpy.data.curves.new(type=\"FONT\", name=text)\n",
    "    font_curve.body = text\n",
    "    font_obj = bpy.data.objects.new(name=\"Font Object\", object_data=font_curve)\n",
    "    bpy.context.scene.collection.objects.link(font_obj)\n",
    "    font_obj.location = location\n",
    "    font_obj.scale = [5, 5, 5]\n",
    "    \n",
    "    modifier = font_obj.modifiers.new(type=\"SOLIDIFY\", name=\"solidify\")\n",
    "    modifier.thickness = 0.05\n",
    "\n",
    "w = 20\n",
    "n = 100\n",
    "monkey = bpy.ops.mesh.primitive_monkey_add()\n",
    "bpy.context.scene.objects[\"Suzanne\"].hide_viewport = True\n",
    "marker_types = list(bplt.scatter.MARKER_TYPES.keys()) + [bpy.context.scene.objects[\"Suzanne\"]]\n",
    "for i, marker_type in enumerate(marker_types):\n",
    "    for j, randomize_rotation in enumerate([False, True]):\n",
    "        scatter = bplt.Scatter(\n",
    "            np.random.rand(n, 3)*w,\n",
    "            color=np.random.rand(n, 3),\n",
    "            marker_type=marker_type,\n",
    "            name=str(marker_type) + str(randomize_rotation),\n",
    "            randomize_rotation=True,\n",
    "        )\n",
    "        scatter.points += [i * w * 1.3, 0, j * w * 1.3]\n",
    "    add_text(str(marker_type).replace('_', '\\n'), [i * w * 1.3, -w/2, 0])\n"
   ]
  },
  {
   "cell_type": "code",
   "execution_count": null,
   "id": "e820967f-02a5-473b-9ecd-6aa6cb69db9a",
   "metadata": {},
   "outputs": [],
   "source": [
    "# custom mesh\n",
    "from colorsys import hls_to_rgb\n",
    "bpy.ops.mesh.primitive_monkey_add()\n",
    "monkey = bpy.context.active_object\n",
    "monkey.hide_viewport = True\n",
    "monkey.hide_render = True\n",
    "n = int(.5e2)\n",
    "\n",
    "scatter = bplt.Scatter(\n",
    "    50 * np.cos(np.linspace(0, 1, n)*np.pi*4),\n",
    "    50 * np.sin(np.linspace(0, 1, n)*np.pi*4),\n",
    "    50 * np.linspace(0, 1, n),\n",
    "    color=np.array([hls_to_rgb(2/3 * i/(n-1), 0.5, 1) for i in range(n)]),\n",
    "    marker_type=monkey,\n",
    "    radius_bottom=1,\n",
    "    radius_top=3,\n",
    "    marker_scale=[5]*3,\n",
    "    marker_rotation=np.array([np.zeros(n), np.zeros(n), np.pi/2 + np.linspace(0, 4 * np.pi, n)]).T,\n",
    ")"
   ]
  },
  {
   "cell_type": "code",
   "execution_count": null,
   "id": "63688da0-3da6-4589-af28-56e39947cd06",
   "metadata": {},
   "outputs": [],
   "source": [
    "# Perfect spheres (only visible in rendered view and with with rendering engine set to cycles)\n",
    "scatter = bplt.Scatter(np.random.rand(n, 3)*50, color=np.random.rand(n, 3), marker_type=\"spheres\", radius=1.5)"
   ]
  },
  {
   "cell_type": "code",
   "execution_count": null,
   "id": "dce1a2bc-8dcf-4488-ae94-1286da694bdc",
   "metadata": {},
   "outputs": [],
   "source": [
    "# Animated, all same color\n",
    "t, n = 10, int(1e2)\n",
    "scatter = bplt.Scatter(\n",
    "    np.random.rand(t, n, 3)*50,\n",
    "    color=(1, 0, 0),\n",
    "    size=(5, 1, 1)\n",
    ")"
   ]
  },
  {
   "cell_type": "code",
   "execution_count": null,
   "id": "c05a9af7-7647-413f-95e5-a63908262bb6",
   "metadata": {},
   "outputs": [],
   "source": [
    "# Animated, no color\n",
    "t, n = 10, int(1e2)\n",
    "scatter = bplt.Scatter(\n",
    "    np.random.rand(t, n, 3)*50,\n",
    "    size=(5, 1, 1)\n",
    ")"
   ]
  },
  {
   "cell_type": "code",
   "execution_count": null,
   "id": "d5b46e01-df0a-4379-a3a5-88104e1c6d99",
   "metadata": {},
   "outputs": [],
   "source": [
    "# Animated, same color between frames\n",
    "t, n = 10, int(1e2)\n",
    "scatter = bplt.Scatter(\n",
    "    np.random.rand(t, n, 3)*50,\n",
    "    color=np.random.rand(n, 3),\n",
    "    size=(5, 1, 1)\n",
    ")"
   ]
  },
  {
   "cell_type": "code",
   "execution_count": null,
   "id": "10bbd09b-07b0-4b2b-bd2c-0d5a01485f8c",
   "metadata": {},
   "outputs": [],
   "source": [
    "# Animated, different color every frame\n",
    "t, n = 10, int(1e2)\n",
    "scatter = bplt.Scatter(\n",
    "    np.random.rand(t, n, 3)*50,\n",
    "    color=np.array([np.ones((n, 1))*np.random.rand(3) for _ in range(t)]),\n",
    "    size=(5, 1, 1)\n",
    ")"
   ]
  },
  {
   "cell_type": "code",
   "execution_count": null,
   "id": "fa31e9f4-7565-4e5d-82be-7a25dddc73f5",
   "metadata": {},
   "outputs": [],
   "source": [
    "# Animated with spheres\n",
    "t, n = 10, int(1e2)\n",
    "scatter = bplt.Scatter(\n",
    "    np.random.rand(t, n, 3)*50,\n",
    "    color=np.array([np.ones((n, 1))*np.random.rand(3) for _ in range(t)]),\n",
    "    marker_type=\"spheres\",\n",
    "    radius=1\n",
    ")"
   ]
  },
  {
   "cell_type": "code",
   "execution_count": null,
   "id": "27f9c603-5b3c-410d-a235-b5436c5e84cd",
   "metadata": {},
   "outputs": [],
   "source": [
    "# rotations with euler angles\n",
    "r = 5\n",
    "t = np.linspace(0, 1, 100)[:, None]\n",
    "x = r * np.cos((t + np.array([0, 0.5])) * 2 * np.pi)\n",
    "y = r * np.sin((t + np.array([0, 0.5])) * 2 * np.pi)\n",
    "z = np.zeros(x.shape)\n",
    "\n",
    "bpy.ops.mesh.primitive_monkey_add()\n",
    "monkey = bpy.context.active_object\n",
    "monkey.hide_viewport = True\n",
    "monkey.hide_render = True\n",
    "\n",
    "# single rotation\n",
    "s = bplt.Scatter(\n",
    "    x, y, z,\n",
    "    color=(1, 0, 0),\n",
    "    marker_rotation=(0, np.pi / 4, 0),\n",
    "    marker_type=monkey,\n",
    "    name=\"rot1\"\n",
    ")\n",
    "# same rotation on every frame\n",
    "s = bplt.Scatter(\n",
    "    x, y, z + 2,\n",
    "    color=(1, 0, 0),\n",
    "    marker_rotation=np.array([[0, 0, 0], [0, np.pi/4, 0]]),\n",
    "    marker_type=monkey,\n",
    "    name=\"rot2\"\n",
    ")\n",
    "# different rotation every frame\n",
    "s = bplt.Scatter(\n",
    "    x, y, z + 4,\n",
    "    color=(1, 0, 0),\n",
    "    marker_rotation=np.tile(np.array([2 * np.pi, 0, 0]) * t[:, None], (1, 2, 1)),\n",
    "    marker_type=monkey,\n",
    "    name=\"rot3\"\n",
    ")"
   ]
  },
  {
   "cell_type": "code",
   "execution_count": null,
   "id": "90065aba-b80e-4ffe-910e-c70d99e79fe8",
   "metadata": {},
   "outputs": [],
   "source": [
    "# rotations with 3x3 matrix\n",
    "r = 5\n",
    "t = np.linspace(0, 1, 100)[:, None]\n",
    "x = r * np.cos((t + np.array([0.25, 0.75])) * 2 * np.pi)\n",
    "y = r * np.sin((t + np.array([0.25, 0.75])) * 2 * np.pi)\n",
    "z = np.zeros(x.shape)\n",
    "def rot_y(theta):\n",
    "    r = np.zeros((*np.array(theta).shape, 3, 3))\n",
    "    r[..., 0, 0] = np.cos(theta)\n",
    "    r[..., 0, 2] = -np.sin(theta)\n",
    "    r[..., 2, 0] = np.sin(theta)\n",
    "    r[..., 2, 2] = np.cos(theta)\n",
    "    return r\n",
    "\n",
    "# single rotation\n",
    "s = bplt.Scatter(\n",
    "    x, y, z,\n",
    "    color=(0, 0, 1),\n",
    "    marker_rotation=rot_y(np.pi / 4),\n",
    "    name=\"rot4\"\n",
    ")\n",
    "# same rotation on every frame\n",
    "s = bplt.Scatter(\n",
    "    x, y, z + 2,\n",
    "    color=(0, 0, 1),\n",
    "    marker_rotation=np.array([np.eye(3), rot_y(np.pi / 4)]),\n",
    "    name=\"rot5\"\n",
    ")\n",
    "# different rotation every frame\n",
    "s = bplt.Scatter(\n",
    "    x, y, z + 4,\n",
    "    color=(0, 0, 1),\n",
    "    marker_rotation=np.tile(rot_y(2 * np.pi * t), (1, 2, 1, 1)),\n",
    "    name=\"rot6\"\n",
    ")"
   ]
  },
  {
   "cell_type": "code",
   "execution_count": null,
   "id": "b10d0efb-d8c0-42a1-b15b-9e422469720f",
   "metadata": {},
   "outputs": [],
   "source": [
    "# another rotation example\n",
    "def get_rotaitons_facing_point(origin, points):\n",
    "    n_points = len(points)\n",
    "    d = (origin - points) / np.linalg.norm(origin - points, axis=-1)[:, None]\n",
    "    R = np.zeros((n_points, 3, 3))\n",
    "    R[..., -1] = d\n",
    "    R[..., 0] = np.cross(d, np.random.randn(n_points, 3))\n",
    "    R[..., 0] /= np.linalg.norm(R[..., 0], axis=-1)[..., None]\n",
    "    R[..., 1] = np.cross(R[..., 2], R[..., 0])\n",
    "    return R\n",
    "\n",
    "n = 5000\n",
    "points = np.random.randn(n, 3) * 20\n",
    "rots = get_rotaitons_facing_point(np.zeros(3), points)\n",
    "s = bplt.Scatter(\n",
    "    points,\n",
    "    marker_rotation=rots,\n",
    "    color=np.array([[1.0, 0.1094, 0.0], [0.0, 0.1301, 1.0]])[np.random.randint(2, size=n)],\n",
    "    size=(1, 1, 5),\n",
    ")"
   ]
  },
  {
   "cell_type": "code",
   "execution_count": null,
   "id": "d18c400c-eea6-4540-b888-52bbfaa38e6c",
   "metadata": {
    "tags": []
   },
   "outputs": [],
   "source": [
    "# check that different input formats are handled correctly\n",
    "n, t = 10, 5\n",
    "for valid_input_example in [\n",
    "    ((1, 2, 3), None, None),\n",
    "    (np.random.randn(n, 3), None, None),\n",
    "    (np.random.randn(t, n, 3), None, None),\n",
    "    (1, 2, 3),\n",
    "    (range(n), range(n), range(n)),\n",
    "    (np.random.randn(n), np.random.randn(n), np.random.randn(n)),\n",
    "    (np.random.randn(t,n), np.random.randn(t,n), np.random.randn(t,n)),\n",
    "]:\n",
    "    points = bplt.get_points_array(*valid_input_example)\n",
    "    \n",
    "for invalid_input_example in [\n",
    "    (np.random.randn(n, 4), None, None),\n",
    "    (np.random.randn(t, n, 4), None, None),\n",
    "    (np.random.randn(t, n, 3, 10), None, None),\n",
    "    (range(n+1), range(n), range(n)),\n",
    "    (range(n), range(n+1), range(n)),\n",
    "    (range(n), range(n+1), range(n+1)),\n",
    "    (np.random.randn(n+1), np.random.randn(n), np.random.randn(n)),\n",
    "    (np.random.randn(n), np.random.randn(n+1), np.random.randn(n)),\n",
    "    (np.random.randn(n), np.random.randn(n), np.random.randn(n+1)),\n",
    "    (np.random.randn(t+1,n), np.random.randn(t,n), np.random.randn(t,n)),\n",
    "    (np.random.randn(t,n), np.random.randn(t+1,n), np.random.randn(t,n)),\n",
    "    (np.random.randn(t,n), np.random.randn(t,n), np.random.randn(t+1,n)),\n",
    "    (np.random.randn(t+1,n), np.random.randn(t,n+1), np.random.randn(t,n)),\n",
    "    (np.random.randn(t,n,2), np.random.randn(t,n,2), np.random.randn(t,n,2)),\n",
    "    (np.random.randn(n), None, np.random.randn(t,n)),\n",
    "    (np.random.randn(n), np.random.randn(t,n), None),\n",
    "    (np.random.randn(t,n), None, np.random.randn(t,n)),\n",
    "    (np.random.randn(t,n), np.random.randn(t,n), None),\n",
    "]:\n",
    "    try:\n",
    "        points = bplt.get_points_array(*invalid_input_example)\n",
    "    except ValueError:\n",
    "        pass\n",
    "    else:\n",
    "        raise ValueError(f\"{input_example=} should raise an error\")"
   ]
  }
 ],
 "metadata": {
  "kernelspec": {
   "display_name": "blender",
   "language": "python",
   "name": "blender"
  },
  "language_info": {
   "codemirror_mode": {
    "name": "ipython",
    "version": 3
   },
   "file_extension": ".py",
   "mimetype": "text/x-python",
   "name": "python",
   "nbconvert_exporter": "python",
   "pygments_lexer": "ipython3",
   "version": "3.10.2"
  }
 },
 "nbformat": 4,
 "nbformat_minor": 5
}
